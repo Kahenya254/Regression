{
 "cells": [
  {
   "cell_type": "markdown",
   "metadata": {},
   "source": [
    "<div align=\"center\" style=\" font-size: 80%; text-align: center; margin: 0 auto\">\n",
    "<img src=\"https://raw.githubusercontent.com/Explore-AI/Pictures/master/Python-Notebook-Banners/Code_challenge.png\"  style=\"display: block; margin-left: auto; margin-right: auto;\";/>\n",
    "</div>"
   ]
  },
  {
   "cell_type": "markdown",
   "metadata": {},
   "source": [
    "## Integrated Project: Understanding the yield\n",
    "© ExploreAI Academy"
   ]
  },
  {
   "cell_type": "markdown",
   "metadata": {},
   "source": [
    "In this coding challenge, we will apply all of the skills we learned in regression."
   ]
  },
  {
   "cell_type": "markdown",
   "metadata": {},
   "source": [
    "⚠️ **Note that this code challenge is graded and will contribute to your overall marks for this module. Submit this notebook for grading. Note that the names of the functions are different in this notebook. Transfer the code in your notebook to this submission notebook**\n",
    "\n",
    "### Instructions\n",
    "\n",
    "- **Do not add or remove cells in this notebook. Do not edit or remove the `### START FUNCTION` or `### END FUNCTION` comments. Do not add any code outside of the functions you are required to edit. Doing any of this will lead to a mark of 0%!**\n",
    "\n",
    "- Answer the questions according to the specifications provided.\n",
    "\n",
    "- Use the given cell in each question to see if your function matches the expected outputs.\n",
    "\n",
    "- Do not hard-code answers to the questions.\n",
    "\n",
    "- The use of StackOverflow, Google, and other online tools is permitted. However, copying a fellow student's code is not permissible and is considered a breach of the Honour code. Doing this will result in a mark of 0%."
   ]
  },
  {
   "cell_type": "markdown",
   "metadata": {},
   "source": [
    "# Introduction to simple linear regression"
   ]
  },
  {
   "cell_type": "markdown",
   "metadata": {},
   "source": [
    "Simple linear regression is a fundamental statistical method used to quantify the relationship between two variables. It allows us to predict an outcome (dependent variable) based on the value of one predictor (independent variable). In this challenge, we will apply simple linear regression to understand how different environmental factors affect the standardised yield of crops.\n",
    "\n",
    "Our insights will not only help local farmers maximise their harvests but also contribute to the sustainable agriculture practices in Maji Ndogo.\n",
    "\n"
   ]
  },
  {
   "cell_type": "markdown",
   "metadata": {},
   "source": [
    "# Initial data exploration"
   ]
  },
  {
   "cell_type": "markdown",
   "metadata": {},
   "source": [
    "Before we sow the seeds of our regression model, we need to get to know our soil – the dataset. This dataset was developed through extensive agricultural surveys conducted at farms across Maji Ndogo. It contains various factors that might influence a farm's crop yield, from the elevation of the fields to the average temperature they bask in.\n",
    "\n",
    "Spend some time looking at the data dictionary and start thinking about what could be influencing our crop yield."
   ]
  },
  {
   "cell_type": "markdown",
   "metadata": {},
   "source": [
    "# Data dictionary"
   ]
  },
  {
   "cell_type": "markdown",
   "metadata": {},
   "source": [
    "**1. Geographic features**\n",
    "\n",
    "- **Field_ID:** A unique identifier for each field (BigInt).\n",
    " \n",
    "- **Elevation:** The elevation of the field above sea level in metres (Float).\n",
    "\n",
    "- **Latitude:** Geographical latitude of the field in degrees (Float). (DUMMY VARIABLE- the simulation might have created a relationship)\n",
    "\n",
    "- **Longitude:** Geographical longitude of the field in degrees (Float). (DUMMY VARIABLE- the simulation might have created a relationship)\n",
    "\n",
    "- **Location:** Province the field is in (Text).\n",
    "\n",
    "- **Slope:** The slope of the land in the field (Float).\n",
    "\n",
    "**2. Weather features**\n",
    "\n",
    "- **Rainfall:** Amount of rainfall in the area in mm (Float).\n",
    "\n",
    "- **Min_temperature_C:** Average minimum temperature recorded in Celsius (Float).(DUMMY VARIABLE)\n",
    "\n",
    "- **Max_temperature_C:** Average maximum temperature recorded in Celsius (Float).(DUMMY VARIABLE)\n",
    "\n",
    "- **Ave_temps:** Average temperature in Celcius (Float).\n",
    "\n",
    "**3. Soil and crop features**\n",
    "\n",
    "- **Soil_fertility:** A measure of soil fertility where 0 is infertile soil, and 1 is very fertile soil (Float).\n",
    "\n",
    "- **Soil_type:** Type of soil present in the field (Text).\n",
    "\n",
    "- **pH:** pH level of the soil, which is a measure of how acidic/basic the soil is (Float).\n",
    "\n",
    "**4. Farm management features**\n",
    "\n",
    "- **Field_ID:** Corresponding field identifier (BigInt).\n",
    "\n",
    "- **Pollution_level:** Level of pollution in the area where 0 is unpolluted and 1 is very polluted (Float).\n",
    "\n",
    "- **Plot_size:** Size of the plot in the field (Ha) (Float). (DUMMY VARIABLE)\n",
    "\n",
    "- **Chosen_crop:** Type of crop chosen for cultivation (Text).\n",
    "\n",
    "- **Annual_yield:** Annual yield from the field (Float). This is the total output of the field. The field size and type of crop will affect the Annual Yield (DUMMY VARIABLE - Removed)\n",
    "\n",
    "<br>\n",
    "\n",
    "**5. Target variable**\n",
    "- **Standard_yield:** Standardised yield expected from the field, normalised per crop (Float). This is independent of field size, or crop type. Multiplying this number by the field size, and average crop yield will give the Annual_Yield.\n",
    "\n",
    "---"
   ]
  },
  {
   "cell_type": "markdown",
   "metadata": {},
   "source": [
    "Let's import our database again, like we did last time. We won't use the weather data so it is commented out.\n",
    "\n",
    "**Important:** Ensure that `data_ingestion.py` file and the `field_data_processor.py` files are stored in the same folder as your notebook, otherwise the data import will fail. The links to the files are below:\n",
    "\n",
    "[Download files here](https://github.com/Explore-AI/Public-Data/raw/master/Maji_Ndogo/modules.zip)\n"
   ]
  },
  {
   "cell_type": "code",
   "execution_count": 1,
   "metadata": {},
   "outputs": [
    {
     "name": "stderr",
     "output_type": "stream",
     "text": [
      "2024-11-17 10:19:55,391 - data_ingestion - INFO - Database engine created successfully.\n",
      "2024-11-17 10:19:55,709 - data_ingestion - INFO - Query executed successfully.\n",
      "2024-11-17 10:19:55,713 - field_data_processor.FieldDataProcessor - INFO - Sucessfully loaded data.\n",
      "2024-11-17 10:19:55,723 - field_data_processor.FieldDataProcessor - INFO - Swapped columns: Annual_yield with Crop_type\n",
      "2024-11-17 10:19:56,990 - data_ingestion - INFO - CSV file read successfully from the web.\n"
     ]
    }
   ],
   "source": [
    "# Read the database, and clean the data using the processing modules we built.\n",
    "\n",
    "import re\n",
    "import numpy as np\n",
    "import pandas as pd\n",
    "from field_data_processor import FieldDataProcessor\n",
    "# from weather_data_processor import WeatherDataProcessor\n",
    "import logging \n",
    "\n",
    "logging.basicConfig(level=logging.INFO, format='%(asctime)s - %(name)s - %(levelname)s - %(message)s')\n",
    "\n",
    "query =     \"\"\"\n",
    "            SELECT *\n",
    "            FROM geographic_features\n",
    "            LEFT JOIN weather_features USING (Field_ID)\n",
    "            LEFT JOIN soil_and_crop_features USING (Field_ID)\n",
    "            LEFT JOIN farm_management_features USING (Field_ID)\n",
    "            \"\"\"\n",
    "\n",
    "config_params = {\n",
    "    \"sql_query\": \"\"\"\n",
    "            SELECT *\n",
    "            FROM geographic_features\n",
    "            LEFT JOIN weather_features USING (Field_ID)\n",
    "            LEFT JOIN soil_and_crop_features USING (Field_ID)\n",
    "            LEFT JOIN farm_management_features USING (Field_ID)\n",
    "            \"\"\",\n",
    "    \"db_path\": 'sqlite:///Maji_Ndogo_farm_survey_small.db',\n",
    "    \"columns_to_rename\": {'Annual_yield': 'Crop_type', 'Crop_type': 'Annual_yield'},\n",
    "    \"values_to_rename\": {'cassaval': 'cassava', 'wheatn': 'wheat', 'teaa': 'tea'},\n",
    "    \"weather_csv_path\": \"https://raw.githubusercontent.com/Explore-AI/Public-Data/master/Maji_Ndogo/Weather_station_data.csv\",\n",
    "    \"weather_mapping_csv\": \"https://raw.githubusercontent.com/Explore-AI/Public-Data/master/Maji_Ndogo/Weather_data_field_mapping.csv\",\n",
    "    \"regex_patterns\" : {\n",
    "            'Rainfall': r'(\\d+(\\.\\d+)?)\\s?mm',\n",
    "            'Temperature': r'(\\d+(\\.\\d+)?)\\s?C',\n",
    "            'Pollution_level': r'=\\s*(-?\\d+(\\.\\d+)?)|Pollution at \\s*(-?\\d+(\\.\\d+)?)'\n",
    "            },\n",
    "}\n",
    "# Ignoring the field data for now.\n",
    "field_processor = FieldDataProcessor(config_params, query)\n",
    "field_processor.process()\n",
    "field_df = field_processor.df\n",
    "\n",
    "# We're not going to use the weather data this time, so we'll ignore it.\n",
    "# weather_processor = WeatherDataProcessor(config_params)\n",
    "# weather_processor.process()\n",
    "# weather_df = weather_processor.weather_df\n",
    "\n",
    "dataset = field_df.drop(\"Weather_station\", axis=1)"
   ]
  },
  {
   "cell_type": "code",
   "execution_count": 2,
   "metadata": {},
   "outputs": [
    {
     "data": {
      "text/plain": [
       "18"
      ]
     },
     "execution_count": 2,
     "metadata": {},
     "output_type": "execute_result"
    }
   ],
   "source": [
    "len(dataset.columns)"
   ]
  },
  {
   "cell_type": "code",
   "execution_count": 3,
   "metadata": {},
   "outputs": [
    {
     "data": {
      "text/html": [
       "<div>\n",
       "<style scoped>\n",
       "    .dataframe tbody tr th:only-of-type {\n",
       "        vertical-align: middle;\n",
       "    }\n",
       "\n",
       "    .dataframe tbody tr th {\n",
       "        vertical-align: top;\n",
       "    }\n",
       "\n",
       "    .dataframe thead th {\n",
       "        text-align: right;\n",
       "    }\n",
       "</style>\n",
       "<table border=\"1\" class=\"dataframe\">\n",
       "  <thead>\n",
       "    <tr style=\"text-align: right;\">\n",
       "      <th></th>\n",
       "      <th>Field_ID</th>\n",
       "      <th>Elevation</th>\n",
       "      <th>Latitude</th>\n",
       "      <th>Longitude</th>\n",
       "      <th>Location</th>\n",
       "      <th>Slope</th>\n",
       "      <th>Rainfall</th>\n",
       "      <th>Min_temperature_C</th>\n",
       "      <th>Max_temperature_C</th>\n",
       "      <th>Ave_temps</th>\n",
       "      <th>Soil_fertility</th>\n",
       "      <th>Soil_type</th>\n",
       "      <th>pH</th>\n",
       "      <th>Pollution_level</th>\n",
       "      <th>Plot_size</th>\n",
       "      <th>Annual_yield</th>\n",
       "      <th>Crop_type</th>\n",
       "      <th>Standard_yield</th>\n",
       "    </tr>\n",
       "  </thead>\n",
       "  <tbody>\n",
       "    <tr>\n",
       "      <th>0</th>\n",
       "      <td>40734</td>\n",
       "      <td>786.05580</td>\n",
       "      <td>-7.389911</td>\n",
       "      <td>-7.556202</td>\n",
       "      <td>Rural_Akatsi</td>\n",
       "      <td>14.795113</td>\n",
       "      <td>1125.2</td>\n",
       "      <td>-3.1</td>\n",
       "      <td>33.1</td>\n",
       "      <td>15.00</td>\n",
       "      <td>0.62</td>\n",
       "      <td>Sandy</td>\n",
       "      <td>6.169393</td>\n",
       "      <td>8.526684e-02</td>\n",
       "      <td>1.3</td>\n",
       "      <td>0.751354</td>\n",
       "      <td>cassava</td>\n",
       "      <td>0.577964</td>\n",
       "    </tr>\n",
       "    <tr>\n",
       "      <th>1</th>\n",
       "      <td>30629</td>\n",
       "      <td>674.33410</td>\n",
       "      <td>-7.736849</td>\n",
       "      <td>-1.051539</td>\n",
       "      <td>Rural_Sokoto</td>\n",
       "      <td>11.374611</td>\n",
       "      <td>1450.7</td>\n",
       "      <td>-3.9</td>\n",
       "      <td>30.6</td>\n",
       "      <td>13.35</td>\n",
       "      <td>0.64</td>\n",
       "      <td>Volcanic</td>\n",
       "      <td>5.676648</td>\n",
       "      <td>3.996838e-01</td>\n",
       "      <td>2.2</td>\n",
       "      <td>1.069865</td>\n",
       "      <td>cassava</td>\n",
       "      <td>0.486302</td>\n",
       "    </tr>\n",
       "    <tr>\n",
       "      <th>2</th>\n",
       "      <td>39924</td>\n",
       "      <td>826.53390</td>\n",
       "      <td>-9.926616</td>\n",
       "      <td>0.115156</td>\n",
       "      <td>Rural_Sokoto</td>\n",
       "      <td>11.339692</td>\n",
       "      <td>2208.9</td>\n",
       "      <td>-1.8</td>\n",
       "      <td>28.4</td>\n",
       "      <td>13.30</td>\n",
       "      <td>0.69</td>\n",
       "      <td>Volcanic</td>\n",
       "      <td>5.331993</td>\n",
       "      <td>3.580286e-01</td>\n",
       "      <td>3.4</td>\n",
       "      <td>2.208801</td>\n",
       "      <td>tea</td>\n",
       "      <td>0.649647</td>\n",
       "    </tr>\n",
       "    <tr>\n",
       "      <th>3</th>\n",
       "      <td>5754</td>\n",
       "      <td>574.94617</td>\n",
       "      <td>-2.420131</td>\n",
       "      <td>-6.592215</td>\n",
       "      <td>Rural_Kilimani</td>\n",
       "      <td>7.109855</td>\n",
       "      <td>328.8</td>\n",
       "      <td>-5.8</td>\n",
       "      <td>32.2</td>\n",
       "      <td>13.20</td>\n",
       "      <td>0.54</td>\n",
       "      <td>Loamy</td>\n",
       "      <td>5.328150</td>\n",
       "      <td>2.866871e-01</td>\n",
       "      <td>2.4</td>\n",
       "      <td>1.277635</td>\n",
       "      <td>cassava</td>\n",
       "      <td>0.532348</td>\n",
       "    </tr>\n",
       "    <tr>\n",
       "      <th>4</th>\n",
       "      <td>14146</td>\n",
       "      <td>886.35300</td>\n",
       "      <td>-3.055434</td>\n",
       "      <td>-7.952609</td>\n",
       "      <td>Rural_Kilimani</td>\n",
       "      <td>55.007656</td>\n",
       "      <td>785.2</td>\n",
       "      <td>-2.5</td>\n",
       "      <td>31.0</td>\n",
       "      <td>14.25</td>\n",
       "      <td>0.72</td>\n",
       "      <td>Sandy</td>\n",
       "      <td>5.721234</td>\n",
       "      <td>4.319027e-02</td>\n",
       "      <td>1.5</td>\n",
       "      <td>0.832614</td>\n",
       "      <td>wheat</td>\n",
       "      <td>0.555076</td>\n",
       "    </tr>\n",
       "    <tr>\n",
       "      <th>...</th>\n",
       "      <td>...</td>\n",
       "      <td>...</td>\n",
       "      <td>...</td>\n",
       "      <td>...</td>\n",
       "      <td>...</td>\n",
       "      <td>...</td>\n",
       "      <td>...</td>\n",
       "      <td>...</td>\n",
       "      <td>...</td>\n",
       "      <td>...</td>\n",
       "      <td>...</td>\n",
       "      <td>...</td>\n",
       "      <td>...</td>\n",
       "      <td>...</td>\n",
       "      <td>...</td>\n",
       "      <td>...</td>\n",
       "      <td>...</td>\n",
       "      <td>...</td>\n",
       "    </tr>\n",
       "    <tr>\n",
       "      <th>5649</th>\n",
       "      <td>11472</td>\n",
       "      <td>681.36145</td>\n",
       "      <td>-7.358371</td>\n",
       "      <td>-6.254369</td>\n",
       "      <td>Rural_Akatsi</td>\n",
       "      <td>16.213196</td>\n",
       "      <td>885.7</td>\n",
       "      <td>-4.3</td>\n",
       "      <td>33.4</td>\n",
       "      <td>14.55</td>\n",
       "      <td>0.61</td>\n",
       "      <td>Sandy</td>\n",
       "      <td>5.741063</td>\n",
       "      <td>3.286828e-01</td>\n",
       "      <td>1.1</td>\n",
       "      <td>0.609930</td>\n",
       "      <td>potato</td>\n",
       "      <td>0.554482</td>\n",
       "    </tr>\n",
       "    <tr>\n",
       "      <th>5650</th>\n",
       "      <td>19660</td>\n",
       "      <td>667.02120</td>\n",
       "      <td>-3.154559</td>\n",
       "      <td>-4.475046</td>\n",
       "      <td>Rural_Kilimani</td>\n",
       "      <td>2.397553</td>\n",
       "      <td>501.1</td>\n",
       "      <td>-4.8</td>\n",
       "      <td>32.1</td>\n",
       "      <td>13.65</td>\n",
       "      <td>0.54</td>\n",
       "      <td>Sandy</td>\n",
       "      <td>5.445833</td>\n",
       "      <td>1.602583e-01</td>\n",
       "      <td>8.7</td>\n",
       "      <td>3.812289</td>\n",
       "      <td>maize</td>\n",
       "      <td>0.438194</td>\n",
       "    </tr>\n",
       "    <tr>\n",
       "      <th>5651</th>\n",
       "      <td>41296</td>\n",
       "      <td>670.77900</td>\n",
       "      <td>-14.472861</td>\n",
       "      <td>-6.110221</td>\n",
       "      <td>Rural_Hawassa</td>\n",
       "      <td>7.636470</td>\n",
       "      <td>1586.6</td>\n",
       "      <td>-3.8</td>\n",
       "      <td>33.4</td>\n",
       "      <td>14.80</td>\n",
       "      <td>0.64</td>\n",
       "      <td>Volcanic</td>\n",
       "      <td>5.385873</td>\n",
       "      <td>8.221326e-09</td>\n",
       "      <td>2.1</td>\n",
       "      <td>1.681629</td>\n",
       "      <td>tea</td>\n",
       "      <td>0.800776</td>\n",
       "    </tr>\n",
       "    <tr>\n",
       "      <th>5652</th>\n",
       "      <td>33090</td>\n",
       "      <td>429.48840</td>\n",
       "      <td>-14.653089</td>\n",
       "      <td>-6.984116</td>\n",
       "      <td>Rural_Hawassa</td>\n",
       "      <td>13.944720</td>\n",
       "      <td>1272.2</td>\n",
       "      <td>-6.2</td>\n",
       "      <td>34.6</td>\n",
       "      <td>14.20</td>\n",
       "      <td>0.63</td>\n",
       "      <td>Silt</td>\n",
       "      <td>5.562508</td>\n",
       "      <td>6.917245e-10</td>\n",
       "      <td>1.3</td>\n",
       "      <td>0.659874</td>\n",
       "      <td>cassava</td>\n",
       "      <td>0.507595</td>\n",
       "    </tr>\n",
       "    <tr>\n",
       "      <th>5653</th>\n",
       "      <td>8375</td>\n",
       "      <td>763.09030</td>\n",
       "      <td>-4.317028</td>\n",
       "      <td>-6.344461</td>\n",
       "      <td>Rural_Kilimani</td>\n",
       "      <td>35.189430</td>\n",
       "      <td>516.4</td>\n",
       "      <td>-3.8</td>\n",
       "      <td>29.6</td>\n",
       "      <td>12.90</td>\n",
       "      <td>0.64</td>\n",
       "      <td>Sandy</td>\n",
       "      <td>5.087792</td>\n",
       "      <td>2.612715e-01</td>\n",
       "      <td>0.5</td>\n",
       "      <td>0.226532</td>\n",
       "      <td>wheat</td>\n",
       "      <td>0.453064</td>\n",
       "    </tr>\n",
       "  </tbody>\n",
       "</table>\n",
       "<p>5654 rows × 18 columns</p>\n",
       "</div>"
      ],
      "text/plain": [
       "      Field_ID  Elevation   Latitude  Longitude        Location      Slope  \\\n",
       "0        40734  786.05580  -7.389911  -7.556202    Rural_Akatsi  14.795113   \n",
       "1        30629  674.33410  -7.736849  -1.051539    Rural_Sokoto  11.374611   \n",
       "2        39924  826.53390  -9.926616   0.115156    Rural_Sokoto  11.339692   \n",
       "3         5754  574.94617  -2.420131  -6.592215  Rural_Kilimani   7.109855   \n",
       "4        14146  886.35300  -3.055434  -7.952609  Rural_Kilimani  55.007656   \n",
       "...        ...        ...        ...        ...             ...        ...   \n",
       "5649     11472  681.36145  -7.358371  -6.254369    Rural_Akatsi  16.213196   \n",
       "5650     19660  667.02120  -3.154559  -4.475046  Rural_Kilimani   2.397553   \n",
       "5651     41296  670.77900 -14.472861  -6.110221   Rural_Hawassa   7.636470   \n",
       "5652     33090  429.48840 -14.653089  -6.984116   Rural_Hawassa  13.944720   \n",
       "5653      8375  763.09030  -4.317028  -6.344461  Rural_Kilimani  35.189430   \n",
       "\n",
       "      Rainfall  Min_temperature_C  Max_temperature_C  Ave_temps  \\\n",
       "0       1125.2               -3.1               33.1      15.00   \n",
       "1       1450.7               -3.9               30.6      13.35   \n",
       "2       2208.9               -1.8               28.4      13.30   \n",
       "3        328.8               -5.8               32.2      13.20   \n",
       "4        785.2               -2.5               31.0      14.25   \n",
       "...        ...                ...                ...        ...   \n",
       "5649     885.7               -4.3               33.4      14.55   \n",
       "5650     501.1               -4.8               32.1      13.65   \n",
       "5651    1586.6               -3.8               33.4      14.80   \n",
       "5652    1272.2               -6.2               34.6      14.20   \n",
       "5653     516.4               -3.8               29.6      12.90   \n",
       "\n",
       "      Soil_fertility Soil_type        pH  Pollution_level  Plot_size  \\\n",
       "0               0.62     Sandy  6.169393     8.526684e-02        1.3   \n",
       "1               0.64  Volcanic  5.676648     3.996838e-01        2.2   \n",
       "2               0.69  Volcanic  5.331993     3.580286e-01        3.4   \n",
       "3               0.54     Loamy  5.328150     2.866871e-01        2.4   \n",
       "4               0.72     Sandy  5.721234     4.319027e-02        1.5   \n",
       "...              ...       ...       ...              ...        ...   \n",
       "5649            0.61     Sandy  5.741063     3.286828e-01        1.1   \n",
       "5650            0.54     Sandy  5.445833     1.602583e-01        8.7   \n",
       "5651            0.64  Volcanic  5.385873     8.221326e-09        2.1   \n",
       "5652            0.63      Silt  5.562508     6.917245e-10        1.3   \n",
       "5653            0.64     Sandy  5.087792     2.612715e-01        0.5   \n",
       "\n",
       "      Annual_yield Crop_type  Standard_yield  \n",
       "0         0.751354   cassava        0.577964  \n",
       "1         1.069865   cassava        0.486302  \n",
       "2         2.208801       tea        0.649647  \n",
       "3         1.277635   cassava        0.532348  \n",
       "4         0.832614     wheat        0.555076  \n",
       "...            ...       ...             ...  \n",
       "5649      0.609930    potato        0.554482  \n",
       "5650      3.812289     maize        0.438194  \n",
       "5651      1.681629       tea        0.800776  \n",
       "5652      0.659874   cassava        0.507595  \n",
       "5653      0.226532     wheat        0.453064  \n",
       "\n",
       "[5654 rows x 18 columns]"
      ]
     },
     "execution_count": 3,
     "metadata": {},
     "output_type": "execute_result"
    }
   ],
   "source": [
    "dataset"
   ]
  },
  {
   "cell_type": "markdown",
   "metadata": {},
   "source": [
    "Before diving into our analysis, it's crucial to ensure the integrity of our dataset and that the data is still as we expect it to be."
   ]
  },
  {
   "cell_type": "code",
   "execution_count": 4,
   "metadata": {},
   "outputs": [
    {
     "name": "stdout",
     "output_type": "stream",
     "text": [
      "\u001b[1m============================= test session starts =============================\u001b[0m\n",
      "platform win32 -- Python 3.12.4, pytest-7.4.4, pluggy-1.0.0 -- C:\\ProgramData\\anaconda3\\python.exe\n",
      "cachedir: .pytest_cache\n",
      "rootdir: C:\\Users\\alexk\\Downloads\\regression\n",
      "plugins: anyio-4.2.0\n",
      "\u001b[1mcollecting ... \u001b[0mcollected 4 items\n",
      "\n",
      "validate_data.py::test_read_field_dataframe_shape \u001b[32mPASSED\u001b[0m\u001b[32m                 [ 25%]\u001b[0m\n",
      "validate_data.py::test_field_dataframe_columns \u001b[32mPASSED\u001b[0m\u001b[32m                    [ 50%]\u001b[0m\n",
      "validate_data.py::test_field_dataframe_non_negative_elevation \u001b[32mPASSED\u001b[0m\u001b[32m     [ 75%]\u001b[0m\n",
      "validate_data.py::test_crop_types_are_valid \u001b[32mPASSED\u001b[0m\u001b[32m                       [100%]\u001b[0m\n",
      "\n",
      "\u001b[32m============================== \u001b[32m\u001b[1m4 passed\u001b[0m\u001b[32m in 1.05s\u001b[0m\u001b[32m ==============================\u001b[0m\n",
      "Deleted sampled_field_df.csv\n"
     ]
    }
   ],
   "source": [
    "# Validate the data\n",
    "# !pip install pytest\n",
    "\n",
    "dataset.to_csv('sampled_field_df.csv', index=False)\n",
    "\n",
    "!pytest validate_data.py -v\n",
    "\n",
    "import os# Define the file paths\n",
    "field_csv_path = 'sampled_field_df.csv'\n",
    "\n",
    "# Delete sampled_field_df.csv if it exists\n",
    "if os.path.exists(field_csv_path):\n",
    "    os.remove(field_csv_path)\n",
    "    print(f\"Deleted {field_csv_path}\")\n",
    "else:\n",
    "    print(f\"{field_csv_path} does not exist.\")"
   ]
  },
  {
   "cell_type": "markdown",
   "metadata": {},
   "source": [
    "# Analysis"
   ]
  },
  {
   "cell_type": "markdown",
   "metadata": {},
   "source": [
    "## Challenge 1: Visualising the relationship"
   ]
  },
  {
   "cell_type": "markdown",
   "metadata": {},
   "source": [
    "With our data ready and loaded, it's time to start exploring. \n",
    "\n",
    "Our goal is to determine whether any of the features in our dataset are influencing the `Standard_yield` of a farm. If we can figure out what these relationships are, then we can use them to start predicting what future yields will be, based on these features. \n",
    "\n",
    "For this analysis, we want to find whether any features have a linear relationship with `Standard_yield` so that we can fit a linear regression model to the data. This is important because if we try and fit a linear regression model to non-linear data, our predictions won't be good.\n",
    "\n",
    "Any of the features could have an impact on the `Standard_yield`. Let's begin with `Ave_temps`, the average temperature of the region, and its relationship to `Standard_yield`.\n",
    "\n",
    "Let's start with the basics: a scatter plot.\n"
   ]
  },
  {
   "cell_type": "markdown",
   "metadata": {},
   "source": [
    "**⚙️ Your task:**\n",
    "\n",
    " 1. Generate a scatter plot to visualise the relationship between `Ave_temps` and `Standard_yield`.\n",
    " 2. Reflect on the scatter plot. Does it suggest a linear relationship, or is the story more complex?\n",
    "\n",
    "**Note:**\n",
    "- Use `matplotlib` to create the scatter plot."
   ]
  },
  {
   "cell_type": "code",
   "execution_count": 5,
   "metadata": {},
   "outputs": [],
   "source": [
    "import matplotlib.pyplot as plt"
   ]
  },
  {
   "cell_type": "code",
   "execution_count": 6,
   "metadata": {},
   "outputs": [
    {
     "data": {
      "image/png": "[encoded data removed]",
      "text/plain": [
       "<Figure size 640x480 with 1 Axes>"
      ]
     },
     "metadata": {},
     "output_type": "display_data"
    }
   ],
   "source": [
    "# Insert code to draw a scatter plot here\n",
    "plt.scatter(dataset[\"Ave_temps\"], dataset[\"Standard_yield\"])\n",
    "plt.title(\"Relationship between Ave_temps and Standard_yield\")\n",
    "plt.xlabel(\"Ave_temps\")\n",
    "plt.ylabel(\"Standard_yield\")\n",
    "plt.show()"
   ]
  },
  {
   "cell_type": "markdown",
   "metadata": {},
   "source": [
    "Now, let's write a function to calculate the Pearson correlation coefficient.\n",
    "\n",
    "**⚙️ Your task:**\n",
    "\n",
    "Create a function named `get_correlation` that:\n",
    "1. Takes a DataFrame and the names of the columns we want to determine the correlation for as parameters (`Ave_temps` and `Standard_yield`).\n",
    "2. Calculates the Pearson correlation coefficient between these two columns to quantify their linear relationship.\n",
    "4. Returns the Pearson correlation coefficient.\n",
    "\n",
    "**Note:**\n",
    "- Use `scipy` to calculate the Pearson correlation coefficient.\n",
    "- Ensure your function returns the Pearson correlation coefficient as a float."
   ]
  },
  {
   "cell_type": "code",
   "execution_count": 8,
   "metadata": {},
   "outputs": [],
   "source": [
    "from scipy.stats import pearsonr"
   ]
  },
  {
   "cell_type": "code",
   "execution_count": 15,
   "metadata": {},
   "outputs": [],
   "source": [
    "### START FUNCTION\n",
    "from scipy.stats import pearsonr\n",
    "\n",
    "def get_correlation(dataset, col1, col2):\n",
    "    \"\"\"\n",
    "    Calculate the Pearson correlation coefficient between two columns in a DataFrame.\n",
    "\n",
    "    Parameters:\n",
    "    dataset (pd.DataFrame): The DataFrame containing the data.\n",
    "    col1 (str): The name of the first column (e.g., 'Ave_temps').\n",
    "    col2 (str): The name of the second column (e.g., 'Standard_yield').\n",
    "\n",
    "    Returns:\n",
    "    float: The Pearson correlation coefficient between the two columns.\n",
    "    \"\"\"\n",
    "    # Ensure the columns exist in the DataFrame\n",
    "    if col1 not in dataset.columns or col2 not in dataset.columns:\n",
    "        raise ValueError(f\"One or both columns ({col1}, {col2}) are not in the DataFrame.\")\n",
    "\n",
    "    # Extract the data for the two columns\n",
    "    col1_values = dataset[col1]\n",
    "    col2_values = dataset[col2]\n",
    "\n",
    "    # Calculate the Pearson correlation coefficient\n",
    "    correlation, _ = pearsonr(col1_values, col2_values)\n",
    "    \n",
    "    return float(correlation)\n",
    "\n",
    "   \n",
    "\n",
    "\n",
    "### END FUNCTION"
   ]
  },
  {
   "cell_type": "markdown",
   "metadata": {},
   "source": [
    "Input:"
   ]
  },
  {
   "cell_type": "code",
   "execution_count": 16,
   "metadata": {},
   "outputs": [
    {
     "name": "stdout",
     "output_type": "stream",
     "text": [
      "Pearson correlation coefficient: 0.006785950289020189\n"
     ]
    }
   ],
   "source": [
    "correlation = get_correlation(dataset,'Ave_temps','Standard_yield')\n",
    "print(\"Pearson correlation coefficient:\", correlation)"
   ]
  },
  {
   "cell_type": "markdown",
   "metadata": {},
   "source": [
    "Expected output\n",
    "```\n",
    "Correlation: 0.006785950289020164\n",
    "```"
   ]
  },
  {
   "cell_type": "markdown",
   "metadata": {},
   "source": [
    "What do you notice about the scatter plot and the dispersion of data points? It's essential to visualise our data first; if the data doesn't follow a linear pattern, then a linear regression model may fail to accurately capture the underlying relationship. The correlation also seems extremly low, what does this tell us?\n",
    "\n",
    "Let's write down some of our observations:\n",
    "\n",
    "  - ✍️ Your notes here\n",
    "  - We note that the correlation coeffient is low\n",
    "  - This means that fiting a regression model here will fail\n",
    "  - This is because for linear regression to work there has to be a high correlation coeffient"
   ]
  },
  {
   "cell_type": "markdown",
   "metadata": {},
   "source": [
    "## Challenge 2: A breath of fresh data: Pollution as a predictor\n"
   ]
  },
  {
   "cell_type": "markdown",
   "metadata": {},
   "source": [
    "It's time to shift our gaze from the warmth of the sun to the haze of pollution. Could the levels of pollution, a concern for farmers and environmentalists alike, be an indicator of our yields?\n",
    "\n",
    "Let's begin by fitting a simple linear regression model, to try and capture the linear relationship between these columns.\n",
    "\n",
    "**⚙️ Your task:**\n",
    "\n",
    "Create a function named `fit_linear_regression_model` that:\n",
    "1. Takes in a DataFrame and the names of the `Pollution_level` and `Standard_yield` columns.\n",
    "2. Fits a linear regression model to the data.\n",
    "3. Returns the model, the model predictions and the actual y-values.\n",
    "\n",
    "**Note:**\n",
    "- Use `LinearRegression` from `sklearn` to fit the model."
   ]
  },
  {
   "cell_type": "code",
   "execution_count": 17,
   "metadata": {},
   "outputs": [],
   "source": [
    "from sklearn.linear_model import LinearRegression"
   ]
  },
  {
   "cell_type": "code",
   "execution_count": 24,
   "metadata": {},
   "outputs": [],
   "source": [
    "### START FUNCTION\n",
    "def fit_linear_regression_model(dataset, pollution_col, yield_col):\n",
    "    \"\"\"\n",
    "    Fit a linear regression model to the data.\n",
    "\n",
    "    Parameters:\n",
    "    dataset (pd.DataFrame): The DataFrame containing the data.\n",
    "    pollution_col (str): The column name representing the independent variable (e.g., 'Pollution_level').\n",
    "    yield_col (str): The column name representing the dependent variable (e.g., 'Standard_yield').\n",
    "\n",
    "    Returns:\n",
    "    tuple: A tuple containing:\n",
    "        - The fitted linear regression model (sklearn object).\n",
    "        - The predicted y-values (numpy array).\n",
    "        - The actual y-values (pandas Series).\n",
    "    \"\"\"\n",
    "    # Ensure the specified columns exist in the DataFrame\n",
    "    if pollution_col not in dataset.columns or yield_col not in dataset.columns:\n",
    "        raise ValueError(f\"One or both columns ({pollution_col}, {yield_col}) are not in the DataFrame.\")\n",
    "    \n",
    "    # Extract the independent (X) and dependent (y) variables\n",
    "    X = dataset[pollution_col].values.reshape(-1, 1)  # Reshape to 2D array\n",
    "    y = dataset[yield_col]\n",
    "    \n",
    "    # Initialize and fit the linear regression model\n",
    "    model = LinearRegression()\n",
    "    model.fit(X, y)\n",
    "    \n",
    "    # Generate predictions for the dependent variable\n",
    "    predictions = model.predict(X)\n",
    "    \n",
    "    # Return the model, predictions, and actual y-values\n",
    "    return model, predictions, y\n",
    "\n",
    "\n",
    "### END FUNCTION"
   ]
  },
  {
   "cell_type": "markdown",
   "metadata": {},
   "source": [
    "Input:"
   ]
  },
  {
   "cell_type": "code",
   "execution_count": 25,
   "metadata": {},
   "outputs": [
    {
     "name": "stdout",
     "output_type": "stream",
     "text": [
      "Model: LinearRegression()\n",
      "Predictions: [0.5540956  0.50920888 0.51515565 ... 0.56626844 0.56626844 0.52896886]\n",
      "Actual Y-Values: 0       0.577964\n",
      "1       0.486302\n",
      "2       0.649647\n",
      "3       0.532348\n",
      "4       0.555076\n",
      "          ...   \n",
      "5649    0.554482\n",
      "5650    0.438194\n",
      "5651    0.800776\n",
      "5652    0.507595\n",
      "5653    0.453064\n",
      "Name: Standard_yield, Length: 5654, dtype: float64\n"
     ]
    }
   ],
   "source": [
    "model, predictions, y_values = fit_linear_regression_model(dataset, 'Pollution_level', 'Standard_yield')\n",
    "print(f\"Model: {model}\")\n",
    "print(f\"Predictions: {predictions}\")\n",
    "print(f\"Actual Y-Values: {y_values}\")"
   ]
  },
  {
   "cell_type": "markdown",
   "metadata": {},
   "source": [
    "Expected output:\n",
    "```\n",
    "- Model: an instance of the LinearRegression class.\n",
    "- Predictions: a NumPy array of predicted values.\n",
    "- y: a Pandas Series with the actual target values used for training.\n",
    "```"
   ]
  },
  {
   "cell_type": "markdown",
   "metadata": {},
   "source": [
    "Linear regression models only work well if our data is in fact linear. So, lets create a scatter plot to visualise the relationship between pollution and crop yields. In addition to this, let's use the predictions from the model we fit to add the line of best fit to our scatter plot.\n",
    "\n",
    "**⚙️ Your task:**\n",
    "\n",
    "1. Generate a scatter plot to visualise the effect that pollution has on standard yield.\n",
    "2. Draw the line of best fit\n",
    "\n",
    "**Hint:**\n",
    "\n",
    "You can use this line of code to draw the regression line on the plot:\n",
    "`plt.plot(X, predictions, color='red', label='Regression line')`"
   ]
  },
  {
   "cell_type": "code",
   "execution_count": 26,
   "metadata": {},
   "outputs": [
    {
     "data": {
      "image/png": "[encoded data removed]",
      "text/plain": [
       "<Figure size 640x480 with 1 Axes>"
      ]
     },
     "metadata": {},
     "output_type": "display_data"
    }
   ],
   "source": [
    "X = dataset[['Pollution_level']]\n",
    "y = dataset['Standard_yield']\n",
    "\n",
    "# Add code to draw the scatter plot and the regression line\n",
    "plt.scatter(X, y, label=\"Data\")\n",
    "plt.plot(X, predictions, color='red', label='Regression line')\n",
    "plt.legend()\n",
    "plt.show()"
   ]
  },
  {
   "cell_type": "markdown",
   "metadata": {},
   "source": [
    "Now, use the get_correlation() function that we defined earlier to test the correlation between `Pollution_level` and `Standard_yield`."
   ]
  },
  {
   "cell_type": "code",
   "execution_count": 27,
   "metadata": {},
   "outputs": [
    {
     "name": "stdout",
     "output_type": "stream",
     "text": [
      "Pearson correlation coefficient: -0.2857609646210545\n"
     ]
    }
   ],
   "source": [
    "Pollution_correlation = get_correlation(dataset,'Pollution_level','Standard_yield')\n",
    "print(\"Pearson correlation coefficient:\", Pollution_correlation)"
   ]
  },
  {
   "cell_type": "markdown",
   "metadata": {},
   "source": [
    "Expected output\n",
    "```\n",
    "Correlation: -0.2857609646210543\n",
    "```"
   ]
  },
  {
   "cell_type": "markdown",
   "metadata": {},
   "source": [
    "Reflect on the difference between this plot and correlation and the previous one with the average temperature. Is the relationship between pollution and yield more linear?\n",
    "\n",
    "  - ✍️ Your notes here\n",
    "  - There is linear negative regression"
   ]
  },
  {
   "cell_type": "markdown",
   "metadata": {},
   "source": [
    "\n",
    "We can also gain a better understanding of our model by examining the slope and intercept.\n",
    "\n",
    "**⚙️ Your task:**\n",
    "\n",
    "Create a function named `get_slope_intercept` that:\n",
    "1. Inputs the `model` we fitted and calculates the slope and intercept of the line of best fit.\n",
    "2. Return the slope and intercept as a tuple.\n"
   ]
  },
  {
   "cell_type": "code",
   "execution_count": 28,
   "metadata": {},
   "outputs": [],
   "source": [
    "### START FUNCTION\n",
    "def get_slope_intercept(model):\n",
    "    \"\"\"\n",
    "    Calculates the slope and intercept of a linear regression model.\n",
    "\n",
    "    Args:\n",
    "        model: A fitted linear regression model.\n",
    "\n",
    "    Returns:\n",
    "        tuple: A tuple containing the slope and intercept.\n",
    "    \"\"\"\n",
    "\n",
    "    slope = model.coef_[0]\n",
    "    intercept = model.intercept_\n",
    "\n",
    "    return slope, intercept\n",
    "   \n",
    "### END FUNCTION"
   ]
  },
  {
   "cell_type": "markdown",
   "metadata": {},
   "source": [
    "Input:"
   ]
  },
  {
   "cell_type": "code",
   "execution_count": 29,
   "metadata": {},
   "outputs": [
    {
     "name": "stdout",
     "output_type": "stream",
     "text": [
      "Slope: -0.14276177209866064\n",
      "Intercept: 0.566268441539338\n"
     ]
    }
   ],
   "source": [
    "slope, intercept = get_slope_intercept(model)\n",
    "print(\"Slope:\", slope)\n",
    "print(\"Intercept:\", intercept)"
   ]
  },
  {
   "cell_type": "markdown",
   "metadata": {},
   "source": [
    "Expected output:\n",
    "```\n",
    "Slope: -0.1427617720986604\n",
    "Intercept: 0.5662684415393379\n",
    "```"
   ]
  },
  {
   "cell_type": "markdown",
   "metadata": {},
   "source": [
    "\n",
    "What does the slope tell us about the strength of the relationship between pollution and yield? Also, what can we learn from the y-intercept?\n",
    "\n",
    "  - ✍️ Your notes here\n",
    "  - we learn that there is a week correlation \n"
   ]
  },
  {
   "cell_type": "markdown",
   "metadata": {},
   "source": [
    "## Challenge 3: The haze clears: Evaluating pollution's predictive power"
   ]
  },
  {
   "cell_type": "markdown",
   "metadata": {},
   "source": [
    "When we look at the scatterplots of `Standard_yield` with `Ave_temps` and `Pollution_level`, it appears that pollution level might have a more linear relationship.  This means that we could potentially use a simple linear regression model to make predictions about the yield of a farm based on its pollution level. However, before we do this we need to further assess the strength of the linear relationship between `Pollution_level` and `Standard_yield`. \n",
    "\n",
    "Let's assess our model's performance using R-squared, Mean Absolute Error (MAE), Mean Squared Error (MSE), and Root Mean Squared Error (RMSE).\n",
    "\n",
    "**⚙️ Your task:**\n",
    "\n",
    "Create a function named `calculate_evaluation_metrics` that:\n",
    "1. Takes the predictions and y-values from our fitted model as input.\n",
    "2. Calculates and returns the R-squared, Mean Absolute Error (MAE), Mean Squared Error (MSE), and Root Mean Squared Error (RMSE) of the model's performance.\n",
    "\n",
    "**Note:**\n",
    "1. Calculate the model's performance metrics using the entire dataset.\n",
    "2. Return the evaluation metrics as a tuple in the order: R-squared, MAE, MSE, RMSE."
   ]
  },
  {
   "cell_type": "code",
   "execution_count": 30,
   "metadata": {},
   "outputs": [],
   "source": [
    "from sklearn.metrics import r2_score, mean_absolute_error, mean_squared_error\n",
    "import numpy as np"
   ]
  },
  {
   "cell_type": "code",
   "execution_count": 31,
   "metadata": {},
   "outputs": [],
   "source": [
    "### START FUNCTION\n",
    "def calculate_evaluation_metrics(predictions, y_values):\n",
    "    \"\"\"\n",
    "    Calculates evaluation metrics for a regression model.\n",
    "\n",
    "    Args:\n",
    "        predictions: Predicted values of the target variable.\n",
    "        y_values: True values of the target variable.\n",
    "\n",
    "    Returns:\n",
    "        tuple: A tuple containing R-squared, MAE, MSE, and RMSE.\n",
    "    \"\"\"\n",
    "\n",
    "    r2 = r2_score(y_values, predictions)\n",
    "    mae = mean_absolute_error(y_values, predictions)\n",
    "    mse = mean_squared_error(y_values, predictions)\n",
    "    rmse = mean_squared_error(y_values, predictions, squared=False)\n",
    "\n",
    "    return r2, mae, mse, rmse   \n",
    "\n",
    "   \n",
    "\n",
    "### END FUNCTION"
   ]
  },
  {
   "cell_type": "markdown",
   "metadata": {},
   "source": [
    "Input:"
   ]
  },
  {
   "cell_type": "code",
   "execution_count": 32,
   "metadata": {},
   "outputs": [
    {
     "name": "stdout",
     "output_type": "stream",
     "text": [
      "Evaluation Metrics:\n",
      "R-squared: 0.0816593289011559\n",
      "MAE: 0.08554642090904992\n",
      "MSE: 0.011477732254034843\n",
      "RMSE: 0.10713417873878925\n"
     ]
    },
    {
     "name": "stderr",
     "output_type": "stream",
     "text": [
      "C:\\ProgramData\\anaconda3\\Lib\\site-packages\\sklearn\\metrics\\_regression.py:483: FutureWarning: 'squared' is deprecated in version 1.4 and will be removed in 1.6. To calculate the root mean squared error, use the function'root_mean_squared_error'.\n",
      "  warnings.warn(\n"
     ]
    }
   ],
   "source": [
    "evaluation_metrics = calculate_evaluation_metrics(predictions, y_values)\n",
    "print(f\"Evaluation Metrics:\\nR-squared: {evaluation_metrics[0]}\\nMAE: {evaluation_metrics[1]}\\nMSE: {evaluation_metrics[2]}\\nRMSE: {evaluation_metrics[3]}\")"
   ]
  },
  {
   "cell_type": "markdown",
   "metadata": {},
   "source": [
    "Expected output:\n",
    "\n",
    "A tuple containing numerical values for R-squared, MAE, MSE, and RMSE (give or take 0.0001):\n",
    "\n",
    "```python\n",
    "R-squared: 0.08165932890115546\n",
    "MAE: 0.08554642090904992\n",
    "MSE: 0.011477732254034848\n",
    "RMSE: 0.10713417873878928\n",
    "\n",
    "```"
   ]
  },
  {
   "cell_type": "markdown",
   "metadata": {},
   "source": [
    "Think about what these metrics tell us about our model's accuracy and reliability. Write down your observations:\n",
    "\n",
    "  - ✍️ Your notes here\n",
    "  - its still not that of a good fit but it will work because of the correkation that exists\n"
   ]
  },
  {
   "cell_type": "markdown",
   "metadata": {},
   "source": [
    "## Challenge 4: The dividing line: Train-test split in action"
   ]
  },
  {
   "cell_type": "markdown",
   "metadata": {},
   "source": [
    "As we delve deeper into the relationship between `Pollution_level` and `Standard_yield`, we must ensure our model is not merely memorising the data but truly understanding it. This brings us to the pivotal technique of Train-Test Split.\n",
    "\n",
    "**The importance of train-test split**\n",
    "\n",
    "Imagine teaching a student for an exam by using the very questions that will appear on it. They might score perfectly, but does it mean they've truly learned? Similarly, a model might perform exceptionally on the data it was trained on, but the real test of knowledge comes from unseen data. This is where the train-test split comes in, allowing us to assess our model's generalisation capabilities by training on one subset of data and testing on another.\n",
    "\n",
    "**Your task**\n",
    "\n",
    "Create a function named `data_train_test_split` that:\n",
    "1. Takes in the DataFrame and the two columns we want to model the relationship between (`Pollution_level` and `Standard_yield`).\n",
    "2. Separates it into features (`X`) based on `Pollution_level` and the target (`y`) based on `Standard_yield`.\n",
    "3. Splits the data into training and testing sets using an 80-20 split and sets `random_state = 42` for reproducibility.\n",
    "4.  Returns a tuple containing: `X_train` and `X_test`, which are DataFrames containing features for training and testing, respectively, along with `y_train` and `y_test`, which are Series representing subsets of the original DataFrame's target variable for training and testing.\n",
    "\n",
    "**Note:**\n",
    "- Use `train_test_split` from `sklearn.model_selection` to split the data.\n",
    "- Train a linear regression model on the training set using `LinearRegression` from `sklearn.linear_model`.\n",
    "- If the random state is not set to `42` the code will not be marked correctly."
   ]
  },
  {
   "cell_type": "code",
   "execution_count": null,
   "metadata": {},
   "outputs": [],
   "source": [
    "from sklearn.model_selection import train_test_split"
   ]
  },
  {
   "cell_type": "code",
   "execution_count": 35,
   "metadata": {},
   "outputs": [],
   "source": [
    "### START FUNCTION\n",
    "def data_train_test_split(df, pollution_col, yield_col):\n",
    "  \"\"\"\n",
    "  Splits the given DataFrame into training and testing sets for a linear regression model.\n",
    "\n",
    "  Args:\n",
    "    df: The DataFrame containing the data.\n",
    "    pollution_col: The name of the pollution level column.\n",
    "    yield_col: The name of the yield column.\n",
    "\n",
    "  Returns:\n",
    "    A tuple containing:\n",
    "      X_train: Features for training.\n",
    "      X_test: Features for testing.\n",
    "      y_train: Target variable for training.\n",
    "      y_test: Target variable for testing.\n",
    "  \"\"\"\n",
    "\n",
    "  X = df[pollution_col].values.reshape(-1, 1)  # Reshape to 2D array\n",
    "  y = df[yield_col]\n",
    "\n",
    "  X_train, X_test, y_train, y_test = train_test_split(X, y, test_size=0.2, random_state=42)\n",
    "\n",
    "  model = LinearRegression()\n",
    "  model.fit(X_train, y_train)\n",
    "\n",
    "  return X_train, X_test, y_train, y_test, model\n",
    "\n",
    "### END FUNCTION"
   ]
  },
  {
   "cell_type": "markdown",
   "metadata": {},
   "source": [
    "Input:"
   ]
  },
  {
   "cell_type": "code",
   "execution_count": 38,
   "metadata": {},
   "outputs": [
    {
     "name": "stdout",
     "output_type": "stream",
     "text": [
      "X_train shape: (4523, 1), X_test shape: (1131, 1)\n",
      "y_train shape: (4523,), y_test shape: (1131,)\n"
     ]
    }
   ],
   "source": [
    "X_train, X_test, y_train, y_test, model = data_train_test_split(dataset, 'Pollution_level', 'Standard_yield')\n",
    "print(f\"X_train shape: {X_train.shape}, X_test shape: {X_test.shape}\")\n",
    "print(f\"y_train shape: {y_train.shape}, y_test shape: {y_test.shape}\")\n",
    "\n",
    "#X_train, X_test, y_train, y_test, model = data_train_test_split(dataset, 'Pollution_level', 'Standard_yield')\n",
    "#print(f\"X_train shape: {X_train.shape}, X_test shape: {X_test.shape}\")\n",
    "#print(f\"y_train shape: {y_train.shape}, y_test shape: {y_test.shape}\")"
   ]
  },
  {
   "cell_type": "markdown",
   "metadata": {},
   "source": [
    "Expected output: \n",
    "```\n",
    "- X_train: DataFrame, subset of the original DataFrame's features for training.\n",
    "- X_test: DataFrame, subset of the original DataFrame's features for testing.\n",
    "- y_train: Series, subset of the original DataFrame's target variable for training.\n",
    "- y_test: Series, subset of the original DataFrame's target variable for testing.\n",
    "```"
   ]
  },
  {
   "cell_type": "markdown",
   "metadata": {},
   "source": [
    "Now lets fit a linear regression model to the data.\n",
    "\n",
    "**Your task**\n",
    "\n",
    "Create a function named `train_split_linear_regression_model()` that:\n",
    "1. Takes `X_train`, `X_test`, `y_train`, `y_test` as input (the results from the `data_train_test_split()` function).\n",
    "2. Trains a simple linear regression model on the training set.\n",
    "3. Uses the testing set to make predictions.\n",
    "4. Returns a tuple containing: the model, the predictions and y_test (the actual y values in the testing set values) ."
   ]
  },
  {
   "cell_type": "code",
   "execution_count": null,
   "metadata": {},
   "outputs": [],
   "source": [
    "from sklearn.linear_model import LinearRegression"
   ]
  },
  {
   "cell_type": "code",
   "execution_count": 39,
   "metadata": {},
   "outputs": [],
   "source": [
    "### START FUNCTION\n",
    "def train_split_linear_regression_model(X_train, X_test, y_train, y_test):\n",
    "  \"\"\"\n",
    "  Trains a linear regression model on the training set and makes predictions on the testing set.\n",
    "\n",
    "  Args:\n",
    "    X_train: Training features.\n",
    "    X_test: Testing features.\n",
    "    y_train: Training target variable.\n",
    "    y_test: Testing target variable.\n",
    "\n",
    "  Returns:\n",
    "    A tuple containing:\n",
    "      model: The trained linear regression model.\n",
    "      y_pred: Predicted values on the testing set.\n",
    "      y_test: Actual values of the target variable on the testing set.\n",
    "  \"\"\"\n",
    "\n",
    "  # Create a linear regression model\n",
    "  model = LinearRegression()\n",
    "\n",
    "  # Train the model on the training data\n",
    "  model.fit(X_train, y_train)\n",
    "\n",
    "  # Make predictions on the testing data\n",
    "  y_pred = model.predict(X_test)\n",
    "\n",
    "  return model, y_pred, y_test\n",
    "\n",
    "    \n",
    "\n",
    "### END FUNCTION"
   ]
  },
  {
   "cell_type": "markdown",
   "metadata": {},
   "source": [
    "Input:"
   ]
  },
  {
   "cell_type": "code",
   "execution_count": 40,
   "metadata": {},
   "outputs": [
    {
     "name": "stdout",
     "output_type": "stream",
     "text": [
      "Train-Test Model: LinearRegression()\n",
      "Test Predictions: [0.56412206 0.56167249 0.55638552 ... 0.53129108 0.53868457 0.56431394]\n",
      "Test Actual Y-Values: 4816    0.446290\n",
      "5096    0.650771\n",
      "4706    0.531284\n",
      "1499    0.516429\n",
      "3544    0.555724\n",
      "          ...   \n",
      "3982    0.540212\n",
      "4952    0.670387\n",
      "1071    0.353658\n",
      "718     0.535224\n",
      "4103    0.470315\n",
      "Name: Standard_yield, Length: 1131, dtype: float64\n"
     ]
    }
   ],
   "source": [
    "train_test_model, predictions_test, y_test = train_split_linear_regression_model(X_train, X_test, y_train, y_test)\n",
    "print(f\"Train-Test Model: {train_test_model}\")\n",
    "print(f\"Test Predictions: {predictions_test}\")\n",
    "print(f\"Test Actual Y-Values: {y_test}\")"
   ]
  },
  {
   "cell_type": "markdown",
   "metadata": {},
   "source": [
    "Expected output: \n",
    "```\n",
    "- Model: an instance of the LinearRegression class.\n",
    "- Predictions: a NumPy array of predicted values.\n",
    "- y_test: a Pandas Series with the actual target values used for evaluating the model.\n",
    "```"
   ]
  },
  {
   "cell_type": "markdown",
   "metadata": {},
   "source": [
    "Now, let's evaluate our use our train-test model by determining R-squared, MAE, MSE, and RMSE.\n",
    "\n",
    "**⚙️ Your task:**\n",
    "\n",
    "1. Use the `calculate_evaluation_metrics` function (defined in Challenge 3) to calculate the R-squared, MAE, MSE, and RMSE.\n",
    "2. The function should return a tuple containing the evaluation metrics (R-squared, MAE, MSE, and RMSE).\n",
    "\n",
    "**Note:**\n",
    "\n",
    "- Ensure to use the test set to calculate the evaluation metrics."
   ]
  },
  {
   "cell_type": "code",
   "execution_count": 42,
   "metadata": {},
   "outputs": [
    {
     "name": "stdout",
     "output_type": "stream",
     "text": [
      "R-squared: 0.08065722992150859\n",
      "Mean Absolute Error (MAE): 0.087949421197475\n",
      "Mean Squared Error (MSE): 0.012250634233355654\n",
      "Root Mean Squared Error (RMSE): 0.11068258324305434\n"
     ]
    },
    {
     "name": "stderr",
     "output_type": "stream",
     "text": [
      "C:\\ProgramData\\anaconda3\\Lib\\site-packages\\sklearn\\metrics\\_regression.py:483: FutureWarning: 'squared' is deprecated in version 1.4 and will be removed in 1.6. To calculate the root mean squared error, use the function'root_mean_squared_error'.\n",
      "  warnings.warn(\n"
     ]
    }
   ],
   "source": [
    "# Add code to calculate the R-squared, MAE, MSE, and RMSE\n",
    "from sklearn.metrics import r2_score, mean_absolute_error, mean_squared_error\n",
    "\n",
    "def calculate_evaluation_metrics(y_true, y_pred):\n",
    "  \"\"\"\n",
    "  Calculates evaluation metrics for a regression model.\n",
    "\n",
    "  Args:\n",
    "    y_true: True values of the target variable.\n",
    "    y_pred: Predicted values of the target variable.\n",
    "\n",
    "  Returns:\n",
    "    tuple: A tuple containing R-squared, MAE, MSE, and RMSE.\n",
    "  \"\"\"\n",
    "\n",
    "  r2 = r2_score(y_true, y_pred)\n",
    "  mae = mean_absolute_error(y_true, y_pred)\n",
    "  mse = mean_squared_error(y_true, y_pred)\n",
    "  rmse = mean_squared_error(y_true, y_pred, squared=False)\n",
    "\n",
    "  return r2, mae, mse, rmse\n",
    "\n",
    "# Assuming you have predictions_test and y_test from your model\n",
    "\n",
    "# Calculate evaluation metrics\n",
    "r2, mae, mse, rmse = calculate_evaluation_metrics(y_test, predictions_test)\n",
    "\n",
    "print(\"R-squared:\", r2)\n",
    "print(\"Mean Absolute Error (MAE):\", mae)\n",
    "print(\"Mean Squared Error (MSE):\", mse)\n",
    "print(\"Root Mean Squared Error (RMSE):\", rmse)"
   ]
  },
  {
   "cell_type": "markdown",
   "metadata": {},
   "source": [
    "Expected output:\n",
    "\n",
    "A tuple containing numerical values for R-squared, MAE, MSE, and RMSE (give or take 0.0001):\n",
    "\n",
    "```python\n",
    "R-squared: 0.08065722992150859\n",
    "MAE:  0.08794942119747501\n",
    "MSE: 0.012250634233355654\n",
    "RMSE: 0.11068258324305434\n",
    "\n",
    "```"
   ]
  },
  {
   "cell_type": "markdown",
   "metadata": {},
   "source": [
    "Reflect on the difference between these metics and the metrics we obtained from the previous model (that was not split into training and testings sets). Why do you think the fit is worse now? And, why should we choose the worse option? (Reflect on the course material if these answers to these questions are not clear.)\n",
    "\n",
    "  - ✍️ Your notes here\n",
    "  - While it might seem counterintuitive to choose a model with worse performance on the training data, the goal is to achieve generalization. A model that performs well on the training data but poorly on the testing data is likely overfitted.\n",
    "\n",
    "By splitting the data into training and testing sets, we can assess the model's ability to generalize to new, unseen data. This helps us build more robust and reliable models.\n"
   ]
  },
  {
   "cell_type": "markdown",
   "metadata": {},
   "source": [
    "## Challenge 5: Diagnosing model fit through residual analysis"
   ]
  },
  {
   "cell_type": "markdown",
   "metadata": {},
   "source": [
    "From our analysis, it seems as though neither `Ave_temps` or `Pollution_level` have a strong linear fit with `Standard_yield`. However, even if we had obtained good results from our evaluation metrics, there are still other crucial assumptions we need to verify to ensure our model is well-fitted. Residual analysis plays a pivotal role in diagnosing the fit of linear regression models, helping us understand whether the assumptions of linearity, independence, and homoscedasticity (constant variance) of residuals are met. \n",
    "\n",
    "If they are not met, can we confidently model this problem using the model? And why?\n",
    "\n",
    "  - ✍️ Your notes here"
   ]
  },
  {
   "cell_type": "markdown",
   "metadata": {},
   "source": [
    "First, let's create a histogram.\n",
    "\n",
    "**⚙️ Your task:**\n",
    "\n",
    "1. Calucate the residuals of our train test model (difference between `y_test` and `predictions_test`)\n",
    "2. Plot these residuals as a histogram to assess their distribution and identify any patterns."
   ]
  },
  {
   "cell_type": "code",
   "execution_count": 43,
   "metadata": {},
   "outputs": [],
   "source": [
    "import matplotlib.pyplot as plt"
   ]
  },
  {
   "cell_type": "code",
   "execution_count": 44,
   "metadata": {},
   "outputs": [
    {
     "data": {
      "image/png": "[encoded data removed]",
      "text/plain": [
       "<Figure size 640x480 with 1 Axes>"
      ]
     },
     "metadata": {},
     "output_type": "display_data"
    }
   ],
   "source": [
    "residuals = y_test - predictions_test # calculating the residuals\n",
    "# Plot the residuals as a histogram with additional customizations\n",
    "plt.hist(residuals, bins=20, edgecolor='black')  # Add bin edges for clarity\n",
    "plt.xlabel('Residuals')\n",
    "plt.ylabel('Frequency')\n",
    "plt.title('Histogram of Residuals')\n",
    "plt.grid(True)  # Add gridlines for better readability\n",
    "plt.show()"
   ]
  },
  {
   "cell_type": "markdown",
   "metadata": {},
   "source": [
    "What does the histogram tell us about our data:\n",
    "\n",
    "1. Examine the shape of the histogram. What does the distribution of residuals tell us about the normality of the data? Consider whether the residuals appear to be symmetrically distributed around zero.\n",
    "\n",
    "    - ✍️ Your notes here\n",
    "    - The values tend to be centrarized around zero.\n",
    "\n",
    "2. Compare the tails of the histogram to a normal distribution. Are there signs of heavy tails or skewness that could affect the reliability of the regression model's predictions?\n",
    "\n",
    "    - ✍️ Your notes here\n",
    "    - No there is no signs of a heaavy tail.\n",
    "\n",
    "3. Assess the centering of the histogram around the zero line. How does this central tendency reflect on the bias of the model's predictions?\n",
    "\n",
    "    - ✍️ Your notes here\n",
    "    - It shows that the error are normally distibuted which aligns with the characteristics of a linear Regression model."
   ]
  },
  {
   "cell_type": "markdown",
   "metadata": {},
   "source": [
    "Now, let's create a scatter plot of these residuals against the predicted values. \n",
    "\n",
    "**⚙️ Your task:**\n",
    "\n",
    "1. Create a scatter plot of the residuals against the predicted values - `predictions_test` should be on the x-axis and the `residuals` on the y-axis.\n",
    "\n",
    "**Note:**\n",
    "\n",
    "- A horizontal line can be added at y=0 to make it easier to see if the residuals are evenly distributed around zero by adding this line of code:\n",
    "`plt.axhline(y=0, color='r', linestyle='--')`\n"
   ]
  },
  {
   "cell_type": "code",
   "execution_count": 45,
   "metadata": {},
   "outputs": [
    {
     "data": {
      "image/png": "[encoded data removed]",
      "text/plain": [
       "<Figure size 640x480 with 1 Axes>"
      ]
     },
     "metadata": {},
     "output_type": "display_data"
    }
   ],
   "source": [
    "#  Add code to create a scatter plot of residuals against the predicted values\n",
    "plt.scatter(predictions_test, residuals)\n",
    "plt.axhline(y=0, color='r', linestyle='--')\n",
    "plt.xlabel('Predicted Values')\n",
    "plt.ylabel('Residuals')\n",
    "plt.title('Residual Plot')\n",
    "plt.show()"
   ]
  },
  {
   "cell_type": "markdown",
   "metadata": {},
   "source": [
    "Relfect on what the scatter plot tells us about our data and the fit of the model:\n",
    "\n",
    "1. Analyse the scatter plot for any apparent patterns or structures in the data. What does this suggest about the appropriateness of the linear regression model for the dataset?\n",
    "\n",
    "    - ✍️ Your notes here\n",
    "\n",
    "2. Inspect the plot for signs of heteroscedasticity. How does the spread of residuals change as the predicted values increase? What might this imply about the constant variance assumption in linear regression?\n",
    "\n",
    "    - ✍️ Your notes here\n",
    "\n",
    "3. Identify whether the residuals are evenly scattered above and below the zero line across the range of predicted values. What can this tell us about the model's performance in terms of bias and prediction accuracy?\n",
    "\n",
    "    - ✍️ Your notes here\n",
    "\n",
    "4. Look for outliers or clusters of points that deviate significantly from the majority. How might these points influence the overall fit of the model?\n",
    "\n",
    "    - ✍️ Your notes here\n"
   ]
  },
  {
   "cell_type": "markdown",
   "metadata": {},
   "source": [
    "Our final task is to examine the mean and standard deviation of the residuals, which provide further insights into the model's performance.\n",
    "\n",
    "**⚙️ Your task:**\n",
    "\n",
    "Create a function named `calculate_residuals_statistics` that:\n",
    "1. Uses the `predictions_test` and `y_test` (obtained from Challenge 4) to calculate the residuals.\n",
    "2. Calculates the mean and standard deviation of the residuals.\n",
    "\n",
    "**Note:**\n",
    "\n",
    "- Use `numpy` for the mean and standard deviation."
   ]
  },
  {
   "cell_type": "code",
   "execution_count": null,
   "metadata": {},
   "outputs": [],
   "source": [
    "import numpy as np"
   ]
  },
  {
   "cell_type": "code",
   "execution_count": 46,
   "metadata": {},
   "outputs": [],
   "source": [
    "### START FUNCTION\n",
    "def calculate_residuals_statistics(predictions_test, y_test):\n",
    "  \"\"\"\n",
    "  Calculates the mean and standard deviation of the residuals.\n",
    "\n",
    "  Args:\n",
    "    predictions_test: Predicted values of the target variable.\n",
    "    y_test: True values of the target variable.\n",
    "\n",
    "  Returns:\n",
    "    A tuple containing the mean and standard deviation of the residuals.\n",
    "  \"\"\"\n",
    "\n",
    "  residuals = y_test - predictions_test\n",
    "  mean_residual = np.mean(residuals)\n",
    "  std_residual = np.std(residuals)\n",
    "\n",
    "  return mean_residual, std_residual\n",
    "\n",
    "\n",
    "### END FUNCTION"
   ]
  },
  {
   "cell_type": "markdown",
   "metadata": {},
   "source": [
    "Input:"
   ]
  },
  {
   "cell_type": "code",
   "execution_count": 47,
   "metadata": {},
   "outputs": [
    {
     "name": "stdout",
     "output_type": "stream",
     "text": [
      "Mean: 0.00585802319232171\n",
      "Standard deviation: 0.11052745268770955\n"
     ]
    }
   ],
   "source": [
    "mean_residual, std_residual = calculate_residuals_statistics(predictions_test, y_test)\n",
    "print(f\"Mean: {mean_residual}\\nStandard deviation: {std_residual}\")"
   ]
  },
  {
   "cell_type": "markdown",
   "metadata": {},
   "source": [
    "Expected output: \n",
    "```\n",
    "Mean: 0.0058580231923217015\n",
    "Standard deviation: 0.11052745268770957\n",
    "```"
   ]
  },
  {
   "cell_type": "markdown",
   "metadata": {},
   "source": [
    "What does the mean of the residuals tell us about the bias in our predictions? How does a mean close to zero reflect on our model's accuracy?\n",
    "\n",
    "- ✍️ Your notes here\n",
    "- A mean close to zero indicates that, on average, the model's predictions are neither systematically overestimating nor underestimating the true values.\n",
    "This suggests that the model is unbiased.\n",
    "-What does the standard deviation of the residuals indicate about the variability of our predictions? Why is it important for this value to be relatively low?\n",
    "\n",
    " - ✍️ Your notes here\n",
    " - Low Standard Deviation:\n",
    "\n",
    "-A low standard deviation indicates that the residuals are clustered closely around the mean (ideally, close to zero).\n",
    "-This suggests that the model's predictions are consistently accurate, with minimal variation from the true values.\n",
    "\n",
    "What are the potential consequences of a high standard deviation of residuals on the reliability of the model's predictions? How might this affect our confidence in the model's estimates?\n",
    "\n",
    "- ✍️ Your notes here\n",
    "- High Standard Deviation:\n",
    "\n",
    "-A high standard deviation indicates that the residuals are spread out over a wider range.\n",
    "-This suggests that the model's predictions are less consistent and may be less reliable."
   ]
  },
  {
   "cell_type": "markdown",
   "metadata": {},
   "source": [
    "## Conclusion\n",
    "\n",
    "Linear regression, for all its strengths, assumes a straightforward relationship between the predictor and the outcome. Yet, the natural world seldom adheres to such simplicity. Factors influencing crop yields in Maji Ndogo—be it temperature, rainfall, or pollution—interact in complex, often nonlinear ways. Our initial model with `Ave_temps` hinted at this complexity, suggesting that the effect of the average temperature on yields might follow a more intricate pattern than a straight line can depict (or no pattern at all).\n",
    "\n",
    "Our yield also depends on more than just the pollution or the temperature, it depends on many of the factors. From our EDA we could see that. We also saw that not all crops are affected equally by pollution or temperature, so we could simplify our model if we remove the influence of the different crops. Once your submission is done, as a challenge to yourself, try to split the data again by crop type (with a loop) and use the functions you created to loop over all of the crop types and print out your metrics.\n",
    "\n",
    "Compare them, and discuss your results with your colleagues. Is there a crop type that is affected by pollution more than other crop types?\n",
    "\n",
    "As we dive deeper into regression, it's crucial to remember that with each model comes a new perspective. Just as a farmer selects the tool that best suits the task at hand, so must we choose our models with intention and insight. Exploring beyond linear regression opens up new vistas of understanding, allowing us to capture the richness of relationships within our data.\n",
    "\n",
    "In the fields of Maji Ndogo and beyond, countless stories await. It's up to us, with curiosity as our guide and an ever-expanding array of models at our disposal, to uncover them."
   ]
  },
  {
   "cell_type": "markdown",
   "metadata": {},
   "source": [
    "#  \n",
    "\n",
    "<div align=\"center\" style=\" font-size: 80%; text-align: center; margin: 0 auto\">\n",
    "<img src=\"https://raw.githubusercontent.com/Explore-AI/Pictures/master/ExploreAI_logos/EAI_Blue_Dark.png\"  style=\"width:200px\";/>\n",
    "</div>"
   ]
  }
 ],
 "metadata": {
  "kernelspec": {
   "display_name": "Python 3 (ipykernel)",
   "language": "python",
   "name": "python3"
  },
  "language_info": {
   "codemirror_mode": {
    "name": "ipython",
    "version": 3
   },
   "file_extension": ".py",
   "mimetype": "text/x-python",
   "name": "python",
   "nbconvert_exporter": "python",
   "pygments_lexer": "ipython3",
   "version": "3.12.4"
  }
 },
 "nbformat": 4,
 "nbformat_minor": 4
}
